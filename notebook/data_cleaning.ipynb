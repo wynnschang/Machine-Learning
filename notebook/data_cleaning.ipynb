{
 "cells": [
  {
   "cell_type": "code",
   "id": "17ec04cf8429832",
   "metadata": {
    "ExecuteTime": {
     "end_time": "2025-06-29T13:48:16.911318Z",
     "start_time": "2025-06-29T13:48:16.900019Z"
    }
   },
   "source": [
    "import pandas as pd\n",
    "import numpy as np\n",
    "import os\n",
    "from sklearn.model_selection import train_test_split\n",
    "\n",
    "from src.classifier_regressor import (\n",
    "    prepare_train_set, train_models, evaluate_model, plot_feature_importance\n",
    ")\n",
    "import warnings\n",
    "warnings.filterwarnings('ignore')"
   ],
   "outputs": [],
   "execution_count": 25
  },
  {
   "cell_type": "code",
   "id": "d9e9409685fc998a",
   "metadata": {
    "ExecuteTime": {
     "end_time": "2025-06-29T13:48:40.324249Z",
     "start_time": "2025-06-29T13:48:17.428795Z"
    }
   },
   "source": [
    "# Go one folder up and into data/raw/\n",
    "RAW_PATH = os.path.join(\"..\", \"data\", \"raw\")\n",
    "\n",
    "# Load datasets\n",
    "ccb = pd.read_csv(os.path.join(RAW_PATH, \"credit_card_balance.csv\"))\n",
    "prev = pd.read_csv(os.path.join(RAW_PATH, \"previous_application.csv\"))\n",
    "\n",
    "app = pd.concat([\n",
    "    pd.read_csv(os.path.join(RAW_PATH, \"application_train.csv\")),\n",
    "    pd.read_csv(os.path.join(RAW_PATH, \"application_test.csv\"))\n",
    "], axis=0).sort_values(\"SK_ID_CURR\").reset_index(drop=True)\n",
    "\n",
    "bureau = pd.read_csv(os.path.join(RAW_PATH, \"bureau.csv\"))"
   ],
   "outputs": [],
   "execution_count": 26
  },
  {
   "cell_type": "code",
   "id": "4d010783a00f2d98",
   "metadata": {
    "ExecuteTime": {
     "end_time": "2025-06-29T13:48:51.176052Z",
     "start_time": "2025-06-29T13:48:40.440852Z"
    }
   },
   "source": [
    "def compute_rolling_ur_pr_separately(ccb, start_month, end_month, label):\n",
    "\n",
    "    window = list(range(start_month, end_month + 1))\n",
    "    ccb_window = ccb[ccb['MONTHS_BALANCE'].isin(window)].copy()\n",
    "\n",
    "    # Compute ratios\n",
    "    ccb_window['UR'] = ccb_window['AMT_BALANCE'] / ccb_window['AMT_CREDIT_LIMIT_ACTUAL']\n",
    "    ccb_window['PR'] = ccb_window['AMT_PAYMENT_TOTAL_CURRENT'] / ccb_window['AMT_TOTAL_RECEIVABLE']\n",
    "\n",
    "    # Sort for rolling computation\n",
    "    ccb_window.sort_values(['SK_ID_CURR', 'MONTHS_BALANCE'], ascending=[True, False], inplace=True)\n",
    "\n",
    "    # Compute 3-month rolling means\n",
    "    ur_df = (\n",
    "        ccb_window.groupby('SK_ID_CURR')['UR']\n",
    "        .rolling(window=3, min_periods=3)\n",
    "        .mean()\n",
    "        .groupby(level=0)\n",
    "        .last()\n",
    "        .reset_index(name=f'UR_{label}')\n",
    "    )\n",
    "\n",
    "    pr_df = (\n",
    "        ccb_window.groupby('SK_ID_CURR')['PR']\n",
    "        .rolling(window=3, min_periods=3)\n",
    "        .mean()\n",
    "        .groupby(level=0)\n",
    "        .last()\n",
    "        .reset_index(name=f'PR_{label}')\n",
    "    )\n",
    "\n",
    "    return ur_df, pr_df\n",
    "\n",
    "ur_789, pr_789 = compute_rolling_ur_pr_separately(ccb, -9, -7, '789')\n",
    "ur_456, pr_456 = compute_rolling_ur_pr_separately(ccb, -6, -4, '456')\n"
   ],
   "outputs": [],
   "execution_count": 27
  },
  {
   "cell_type": "code",
   "id": "113aab222b9425d",
   "metadata": {
    "ExecuteTime": {
     "end_time": "2025-06-29T13:48:52.197687Z",
     "start_time": "2025-06-29T13:48:51.303393Z"
    }
   },
   "source": [
    "def extract_drawings(ccb_tc, months, prefix):\n",
    "    \"\"\"Pivot AMT_DRAWINGS_CURRENT into TC features.\"\"\"\n",
    "    df = ccb_tc[ccb_tc['MONTHS_BALANCE'].isin(months)]\n",
    "    tc = df.pivot_table(\n",
    "        index='SK_ID_CURR',\n",
    "        columns='MONTHS_BALANCE',\n",
    "        values='AMT_DRAWINGS_CURRENT',\n",
    "        aggfunc='sum'\n",
    "    ).reset_index()\n",
    "    tc.columns = ['SK_ID_CURR'] + [f'{prefix}{abs(c)}' for c in months]\n",
    "    return tc\n",
    "# Drawings\n",
    "tc_123 = extract_drawings(ccb, [-1, -2, -3], 'TC')\n",
    "tc_456 = extract_drawings(ccb, [-4, -5, -6], 'TC')\n",
    "tc_789 = extract_drawings(ccb, [-7, -8, -9], 'TC')"
   ],
   "outputs": [],
   "execution_count": 28
  },
  {
   "cell_type": "code",
   "id": "aedbe16b7d6fd1b7",
   "metadata": {
    "ExecuteTime": {
     "end_time": "2025-06-29T13:48:53.248046Z",
     "start_time": "2025-06-29T13:48:52.303674Z"
    }
   },
   "source": [
    "def generate_eo_features(ccb_eo, months, prefix):\n",
    "    months = sorted(months)  # e.g., [-3, -2, -1] becomes [-3, -2, -1]\n",
    "    filtered = ccb_eo[ccb_eo['MONTHS_BALANCE'].isin(months)].copy()\n",
    "    filtered['cbb_non_pay'] = (filtered['SK_DPD_DEF'] > 0).astype(int)\n",
    "\n",
    "    # Pivot: raw overdue flags\n",
    "    eo = filtered.pivot_table(\n",
    "        index='SK_ID_CURR',\n",
    "        columns='MONTHS_BALANCE',\n",
    "        values='cbb_non_pay',\n",
    "        aggfunc='max'\n",
    "    ).fillna(0).astype(int).reset_index()\n",
    "\n",
    "    # Map pivoted column names to standardized EO_i_raw\n",
    "    eo_col_map = {m: f\"{prefix}_{i+1}_raw\" for i, m in enumerate(sorted(months, reverse=True))}\n",
    "    eo = eo.rename(columns=eo_col_map)\n",
    "\n",
    "    # Compute EO_1, EO_2, EO_3 recursively\n",
    "    eo[f\"{prefix}_1\"] = eo[f\"{prefix}_1_raw\"]\n",
    "    eo[f\"{prefix}_2\"] = eo[f\"{prefix}_2_raw\"] * (eo[f\"{prefix}_1\"] + 1)\n",
    "    eo[f\"{prefix}_3\"] = eo[f\"{prefix}_3_raw\"] * (eo[f\"{prefix}_2\"] + 1)\n",
    "\n",
    "    # Total non-payment flags\n",
    "    eo[\"MP_R\"] = (eo[f\"{prefix}_1\"] > 0).astype(int) + \\\n",
    "                 (eo[f\"{prefix}_2\"] > 0).astype(int) + \\\n",
    "                 (eo[f\"{prefix}_3\"] > 0).astype(int)\n",
    "\n",
    "    return eo[[\"SK_ID_CURR\", f\"{prefix}_1\", f\"{prefix}_2\", f\"{prefix}_3\", \"MP_R\"]]\n",
    "eo_123 = generate_eo_features(ccb, [-1, -2, -3], 'EO')\n",
    "eo_456 = generate_eo_features(ccb, [-4, -5, -6], 'EO')\n",
    "eo_789 = generate_eo_features(ccb, [-7, -8, -9], 'EO')"
   ],
   "outputs": [],
   "execution_count": 29
  },
  {
   "cell_type": "code",
   "id": "f673bd25ade1eeb8",
   "metadata": {
    "ExecuteTime": {
     "end_time": "2025-06-29T13:48:53.440718Z",
     "start_time": "2025-06-29T13:48:53.351335Z"
    }
   },
   "source": [
    "def extract_limit(ccb_lr, month):\n",
    "    \"\"\"Get L_R value from a specific month.\"\"\"\n",
    "    df = ccb_lr[ccb_lr['MONTHS_BALANCE'] == month][['SK_ID_CURR', 'AMT_CREDIT_LIMIT_ACTUAL']]\n",
    "    return df.rename(columns={'AMT_CREDIT_LIMIT_ACTUAL': 'L_R'})\n",
    "# Credit limit (L_R)\n",
    "lr_1 = extract_limit(ccb, -1)\n",
    "lr_4 = extract_limit(ccb, -4)\n",
    "lr_7 = extract_limit(ccb, -7)"
   ],
   "outputs": [],
   "execution_count": 30
  },
  {
   "cell_type": "code",
   "id": "b69dc9ccaa65e3fa",
   "metadata": {
    "ExecuteTime": {
     "end_time": "2025-06-29T13:48:53.923789Z",
     "start_time": "2025-06-29T13:48:53.537426Z"
    }
   },
   "source": [
    "def compute_account_age_by_window(ccb, start_month, end_month):\n",
    "    \"\"\"\n",
    "    Compute the number of distinct MONTHS_BALANCE entries per SK_ID_CURR\n",
    "    for a given time window (e.g., -6 to -4), and rename column as N_Months_R_<label>.\n",
    "\n",
    "    Returns a DataFrame: ['SK_ID_CURR', f'N_Months_R_{label}']\n",
    "    \"\"\"\n",
    "    filtered = ccb[ccb['MONTHS_BALANCE'].between(start_month, end_month)]\n",
    "    age_df = (\n",
    "        filtered.groupby('SK_ID_CURR')['MONTHS_BALANCE']\n",
    "        .nunique()\n",
    "        .reset_index(name=f'N_Months_R')\n",
    "    )\n",
    "    return age_df\n",
    "age_456 = compute_account_age_by_window(ccb, -6, -4)\n",
    "age_789 = compute_account_age_by_window(ccb, -9, -7)\n"
   ],
   "outputs": [],
   "execution_count": 31
  },
  {
   "cell_type": "code",
   "id": "5144f1e63f8a90ac",
   "metadata": {
    "ExecuteTime": {
     "end_time": "2025-06-29T13:48:54.221064Z",
     "start_time": "2025-06-29T13:48:54.023545Z"
    }
   },
   "source": [
    "# Interest rate computation\n",
    "def compute_customer_interest_rate(prev_df, fallback_rate=0.1887):\n",
    "    prev_df['INT'] = prev_df['RATE_INTEREST_PRIMARY'].fillna(prev_df['RATE_INTEREST_PRIVILEGED'])\n",
    "    return prev_df.groupby('SK_ID_CURR')['INT'].mean().fillna(fallback_rate).reset_index()\n",
    "\n",
    "interest_df = compute_customer_interest_rate(prev)\n"
   ],
   "outputs": [],
   "execution_count": 32
  },
  {
   "cell_type": "code",
   "id": "c784a8df52ae69fa",
   "metadata": {
    "ExecuteTime": {
     "end_time": "2025-06-29T13:48:54.335057Z",
     "start_time": "2025-06-29T13:48:54.322841Z"
    }
   },
   "source": [
    "ei = app[['SK_ID_CURR', 'AMT_INCOME_TOTAL']].rename(columns={'AMT_INCOME_TOTAL': 'EI'})"
   ],
   "outputs": [],
   "execution_count": 33
  },
  {
   "cell_type": "code",
   "id": "8c95272d3b2cfb4c",
   "metadata": {
    "ExecuteTime": {
     "end_time": "2025-06-29T13:48:56.732825Z",
     "start_time": "2025-06-29T13:48:56.700916Z"
    }
   },
   "source": [
    "def simulate_limit_increase(lr_df, beta=1.5, prob=0.2, seed=None):\n",
    "    \"\"\"Simulate limit increase.\"\"\"\n",
    "    if seed is not None:\n",
    "        np.random.seed(seed)\n",
    "    lr_df = lr_df.copy()\n",
    "    lr_df['sim_increase'] = np.random.rand(len(lr_df)) < prob\n",
    "    lr_df['L_P'] = np.where(lr_df['sim_increase'], lr_df['L_R'] * beta, lr_df['L_R'])\n",
    "    lr_df['HA_P'] = (lr_df['L_P'] > lr_df['L_R']).astype(int)\n",
    "    return lr_df.drop(columns='sim_increase')\n",
    "\n",
    "# Simulated limit increase\n",
    "lr_1 = simulate_limit_increase(lr_1, seed=42)\n",
    "lr_4 = simulate_limit_increase(lr_4, seed=43)\n",
    "lr_7 = simulate_limit_increase(lr_7, seed=44)"
   ],
   "outputs": [],
   "execution_count": 34
  },
  {
   "cell_type": "code",
   "id": "6cdc39fe82989af0",
   "metadata": {
    "ExecuteTime": {
     "end_time": "2025-06-29T13:48:59.620213Z",
     "start_time": "2025-06-29T13:48:58.754127Z"
    }
   },
   "source": [
    "def pivot_ob_balance(ccb_ob, months, prefix):\n",
    "    \"\"\"Pivot OB_cdayᵢ values.\"\"\"\n",
    "    df = ccb_ob[ccb_ob['MONTHS_BALANCE'].isin(months)]\n",
    "    pivot = df.pivot_table(\n",
    "        index='SK_ID_CURR',\n",
    "        columns='MONTHS_BALANCE',\n",
    "        values='AMT_BALANCE',\n",
    "        aggfunc='first'\n",
    "    ).reset_index()\n",
    "    pivot.columns = ['SK_ID_CURR'] + [f'OB_cday_{abs(c)}' for c in months]\n",
    "    return pivot\n",
    "# OB_cdayᵢ\n",
    "ccb_ob_pivot_123 = pivot_ob_balance(ccb, [-1, -2, -3], 'OB_cday')\n",
    "ccb_ob_pivot_456 = pivot_ob_balance(ccb, [-4, -5, -6], 'OB_cday')\n",
    "ccb_ob_pivot_789 = pivot_ob_balance(ccb, [-7, -8, -9], 'OB_cday')"
   ],
   "outputs": [],
   "execution_count": 35
  },
  {
   "cell_type": "code",
   "id": "cb6a9aff995036e3",
   "metadata": {
    "ExecuteTime": {
     "end_time": "2025-06-29T13:49:00.576563Z",
     "start_time": "2025-06-29T13:48:59.713279Z"
    }
   },
   "source": [
    "def compute_payment_ratio(ccb_pday, months, prefix):\n",
    "    \"\"\"Compute and pivot P_pdayᵢ ratios.\"\"\"\n",
    "    df = ccb_pday[ccb_pday['MONTHS_BALANCE'].isin(months)].copy()\n",
    "    df['P_pday'] = df['AMT_PAYMENT_TOTAL_CURRENT'] / df['AMT_BALANCE'].replace(0, np.nan)\n",
    "    pivot = df.pivot_table(\n",
    "        index='SK_ID_CURR',\n",
    "        columns='MONTHS_BALANCE',\n",
    "        values='P_pday',\n",
    "        aggfunc='first'\n",
    "    ).reset_index()\n",
    "    pivot.columns = ['SK_ID_CURR'] + [f'P_pday_{abs(c)}' for c in months]\n",
    "    return pivot\n",
    "# Payment ratio\n",
    "payment_ratio_pivot_123 = compute_payment_ratio(ccb, [-1, -2, -3], 'P_pday')\n",
    "payment_ratio_pivot_456 = compute_payment_ratio(ccb, [-4, -5, -6], 'P_pday')\n",
    "payment_ratio_pivot_789 = compute_payment_ratio(ccb, [-7, -8, -9], 'P_pday')"
   ],
   "outputs": [],
   "execution_count": 36
  },
  {
   "cell_type": "code",
   "id": "ca30437fc1a8d0c6",
   "metadata": {
    "ExecuteTime": {
     "end_time": "2025-06-29T13:49:00.867801Z",
     "start_time": "2025-06-29T13:49:00.676205Z"
    }
   },
   "source": [
    "#take mean overdue days\n",
    "bureau_score = bureau.groupby('SK_ID_CURR')['CREDIT_DAY_OVERDUE'].mean().reset_index(name='BS')\n"
   ],
   "outputs": [],
   "execution_count": 37
  },
  {
   "cell_type": "code",
   "id": "be3ab099bae93f45",
   "metadata": {
    "ExecuteTime": {
     "end_time": "2025-06-29T13:49:00.973207Z",
     "start_time": "2025-06-29T13:49:00.967879Z"
    }
   },
   "source": [
    "# Average balance and classification\n",
    "def classify_balance(bal):\n",
    "    if bal == 0:\n",
    "        return 2\n",
    "    elif bal <= 75000:\n",
    "        return 0\n",
    "    else:\n",
    "        return 1"
   ],
   "outputs": [],
   "execution_count": 38
  },
  {
   "cell_type": "code",
   "id": "aa01292da7db0125",
   "metadata": {
    "ExecuteTime": {
     "end_time": "2025-06-29T13:49:01.577705Z",
     "start_time": "2025-06-29T13:49:01.076206Z"
    }
   },
   "source": [
    "def compute_avg_balance(ccb_df, months):\n",
    "    df = ccb_df[ccb_df[\"MONTHS_BALANCE\"].isin(months)]\n",
    "\n",
    "    # Compute average balance\n",
    "    avg_balance = df.groupby(\"SK_ID_CURR\")[\"AMT_BALANCE\"].mean().reset_index(name=\"AVG_BALANCE\")\n",
    "\n",
    "    # Classify balance\n",
    "    avg_balance[\"BALANCE_CLASS\"] = avg_balance[\"AVG_BALANCE\"].apply(classify_balance)\n",
    "    return avg_balance\n",
    "\n",
    "# Example usage\n",
    "avg_balance_123 = compute_avg_balance(ccb, [-1, -2, -3])\n",
    "avg_balance_456 = compute_avg_balance(ccb, [-4, -5, -6])\n",
    "avg_balance_789 = compute_avg_balance(ccb, [-7, -8, -9])\n"
   ],
   "outputs": [],
   "execution_count": 39
  },
  {
   "metadata": {
    "ExecuteTime": {
     "end_time": "2025-06-29T13:50:20.297589Z",
     "start_time": "2025-06-29T13:50:20.289128Z"
    }
   },
   "cell_type": "code",
   "source": "avg_balance_456[\"BALANCE_CLASS\"].value_counts()",
   "id": "7e31db2e985ba4b0",
   "outputs": [
    {
     "data": {
      "text/plain": [
       "2    62931\n",
       "1    26062\n",
       "0    12462\n",
       "Name: BALANCE_CLASS, dtype: int64"
      ]
     },
     "execution_count": 44,
     "metadata": {},
     "output_type": "execute_result"
    }
   ],
   "execution_count": 44
  },
  {
   "cell_type": "code",
   "id": "903f00c10e10d074",
   "metadata": {
    "ExecuteTime": {
     "end_time": "2025-06-29T13:50:27.524741Z",
     "start_time": "2025-06-29T13:50:26.785162Z"
    }
   },
   "source": [
    "def assemble_snapshot(\n",
    "    tc_df, eo_df, eo_cols, interest_rate_df, ob_df, limit_df, balance_df, pay_ratio_df,\n",
    "    rename_map=None\n",
    "):\n",
    "    \"\"\"Merge all components into a single customer snapshot DataFrame.\"\"\"\n",
    "    snapshot = tc_df.copy()\n",
    "    snapshot = snapshot.merge(eo_df[[\"SK_ID_CURR\"] + eo_cols], on=\"SK_ID_CURR\", how=\"inner\")\n",
    "    snapshot = snapshot.merge(interest_rate_df, on=\"SK_ID_CURR\", how=\"inner\")\n",
    "    snapshot = snapshot.merge(ob_df, on=\"SK_ID_CURR\", how=\"inner\")\n",
    "    snapshot = snapshot.merge(limit_df[[\"SK_ID_CURR\", \"L_R\"]], on=\"SK_ID_CURR\", how=\"inner\")\n",
    "    snapshot = snapshot.merge(balance_df, on=\"SK_ID_CURR\", how=\"inner\")\n",
    "    snapshot = snapshot.merge(pay_ratio_df, on=\"SK_ID_CURR\", how=\"inner\")\n",
    "    \n",
    "    if rename_map:\n",
    "        snapshot = snapshot.rename(columns=rename_map)\n",
    "    \n",
    "    return snapshot\n",
    "\n",
    "# === Build future snapshot (M-1 to M-3) ===\n",
    "future = assemble_snapshot(\n",
    "    tc_df=tc_123,\n",
    "    eo_df=eo_123,\n",
    "    eo_cols=[\"EO_1\", \"EO_2\", \"EO_3\"],\n",
    "    interest_rate_df=interest_df,\n",
    "    ob_df=ccb_ob_pivot_123,\n",
    "    limit_df=lr_1,\n",
    "    balance_df=avg_balance_123,\n",
    "    pay_ratio_df=payment_ratio_pivot_123\n",
    ")\n",
    "\n",
    "# === Build current snapshot (M-4 to M-6) with renaming ===\n",
    "current_rename = {\n",
    "    \"TC6\": \"TC3\", \"TC5\": \"TC2\", \"TC4\": \"TC1\",\n",
    "    \"EO_4\": \"EO_1\", \"EO_5\": \"EO_2\", \"EO_6\": \"EO_3\",\n",
    "    \"OB_cday_6\": \"OB_cday_3\", \"OB_cday_5\": \"OB_cday_2\", \"OB_cday_4\": \"OB_cday_1\",\n",
    "    \"P_pday_6\": \"P_pday_3\", \"P_pday_5\": \"P_pday_2\", \"P_pday_4\": \"P_pday_1\"\n",
    "}\n",
    "current = assemble_snapshot(\n",
    "    tc_df=tc_456,\n",
    "    eo_df=eo_456,\n",
    "    eo_cols=[\"EO_1\", \"EO_2\", \"EO_3\"],\n",
    "    interest_rate_df=interest_df,\n",
    "    ob_df=ccb_ob_pivot_456,\n",
    "    limit_df=lr_4,\n",
    "    balance_df=avg_balance_456,\n",
    "    pay_ratio_df=payment_ratio_pivot_456,\n",
    "    rename_map=current_rename\n",
    ")\n",
    "\n",
    "# === Build past snapshot (M-7 to M-9) with renaming ===\n",
    "past_rename = {\n",
    "    \"TC9\": \"TC3\", \"TC8\": \"TC2\", \"TC7\": \"TC1\",\n",
    "    \"EO_7\": \"EO_1\", \"EO_8\": \"EO_2\", \"EO_9\": \"EO_3\",\n",
    "    \"OB_cday_9\": \"OB_cday_3\", \"OB_cday_8\": \"OB_cday_2\", \"OB_cday_7\": \"OB_cday_1\",\n",
    "    \"P_pday_9\": \"P_pday_3\", \"P_pday_8\": \"P_pday_2\", \"P_pday_7\": \"P_pday_1\"\n",
    "}\n",
    "past = assemble_snapshot(\n",
    "    tc_df=tc_789,\n",
    "    eo_df=eo_789,\n",
    "    eo_cols=[\"EO_1\", \"EO_2\", \"EO_3\"],\n",
    "    interest_rate_df=interest_df,\n",
    "    ob_df=ccb_ob_pivot_789,\n",
    "    limit_df=lr_7,\n",
    "    balance_df=avg_balance_789,\n",
    "    pay_ratio_df=payment_ratio_pivot_789,\n",
    "    rename_map=past_rename\n",
    ")\n",
    "\n",
    "# === Impute missing values using median ===\n",
    "past.fillna(past.median(numeric_only=True), inplace=True)\n",
    "current.fillna(future.median(numeric_only=True), inplace=True)\n",
    "future.fillna(future.median(numeric_only=True), inplace=True)\n"
   ],
   "outputs": [],
   "execution_count": 45
  },
  {
   "cell_type": "markdown",
   "id": "dbab8a3f73ca6082",
   "metadata": {},
   "source": [
    "### Classification"
   ]
  },
  {
   "cell_type": "code",
   "id": "cbe10f1c79a3087a",
   "metadata": {
    "ExecuteTime": {
     "end_time": "2025-06-29T13:50:40.204814Z",
     "start_time": "2025-06-29T13:50:27.623376Z"
    }
   },
   "source": [
    "# === Step 1: Train/Test Split\n",
    "X, y = prepare_train_set(past, current)\n",
    "X_train, X_val, y_train, y_val = train_test_split(X, y, test_size=0.3, stratify=y, random_state=42)\n",
    "\n",
    "# === Step 2: Train and Evaluate Models\n",
    "best_model, best_model_name, results_df = train_models(X_train, y_train, X_val, y_val)\n",
    "\n",
    "# === Step 3: Predict and Evaluate on Current\n",
    "X_current = current.drop(columns=[\"SK_ID_CURR\", \"BALANCE_CLASS\", \"AVG_BALANCE_456\"], errors=\"ignore\")\n",
    "X_current = X_current[X_train.columns]\n",
    "y_current = current[\"BALANCE_CLASS\"]\n",
    "y_current_pred = evaluate_model(best_model, X_current, y_current, label=\"Current\")\n",
    "\n",
    "col_name = f\"BALANCE_CLASS_PREDICTED_{best_model_name.replace(' ', '_')}\"\n",
    "current[col_name] = y_current_pred\n",
    "\n",
    "# === Step 4: Compare with Future\n",
    "comparison = current.merge(future[[\"SK_ID_CURR\", \"BALANCE_CLASS\"]], on=\"SK_ID_CURR\", suffixes=(\"_pred\", \"_true\"))\n",
    "evaluate_model(None, comparison[col_name], comparison[\"BALANCE_CLASS_true\"], label=\"Future\", precomputed=True)\n",
    "# === Step 5: Feature Importance\n",
    "plot_feature_importance(best_model, X_train, best_model_name)"
   ],
   "outputs": [
    {
     "name": "stdout",
     "output_type": "stream",
     "text": [
      "\n",
      "=== Logistic Regression ===\n",
      "              precision    recall  f1-score   support\n",
      "\n",
      "           0       0.73      0.35      0.48      2963\n",
      "           1       0.78      0.95      0.86      7354\n",
      "\n",
      "    accuracy                           0.78     10317\n",
      "   macro avg       0.76      0.65      0.67     10317\n",
      "weighted avg       0.77      0.78      0.75     10317\n",
      "\n",
      "\n",
      "=== Random Forest ===\n",
      "              precision    recall  f1-score   support\n",
      "\n",
      "           0       0.80      0.78      0.79      2963\n",
      "           1       0.91      0.92      0.92      7354\n",
      "\n",
      "    accuracy                           0.88     10317\n",
      "   macro avg       0.86      0.85      0.86     10317\n",
      "weighted avg       0.88      0.88      0.88     10317\n",
      "\n",
      "\n",
      "=== XGBoost ===\n",
      "              precision    recall  f1-score   support\n",
      "\n",
      "           0       0.81      0.78      0.79      2963\n",
      "           1       0.91      0.92      0.92      7354\n",
      "\n",
      "    accuracy                           0.88     10317\n",
      "   macro avg       0.86      0.85      0.86     10317\n",
      "weighted avg       0.88      0.88      0.88     10317\n",
      "\n",
      "\n",
      "=== LightGBM ===\n",
      "              precision    recall  f1-score   support\n",
      "\n",
      "           0       0.81      0.79      0.80      2963\n",
      "           1       0.91      0.92      0.92      7354\n",
      "\n",
      "    accuracy                           0.88     10317\n",
      "   macro avg       0.86      0.85      0.86     10317\n",
      "weighted avg       0.88      0.88      0.88     10317\n",
      "\n"
     ]
    },
    {
     "data": {
      "text/plain": [
       "<Figure size 640x480 with 1 Axes>"
      ],
      "image/png": "[encoded data removed]"
     },
     "metadata": {},
     "output_type": "display_data"
    },
    {
     "name": "stdout",
     "output_type": "stream",
     "text": [
      "\n",
      "Performance on Current Data:\n",
      "              precision    recall  f1-score   support\n",
      "\n",
      "           0       0.94      0.77      0.85     12554\n",
      "           1       0.90      0.98      0.94     26163\n",
      "\n",
      "    accuracy                           0.91     38717\n",
      "   macro avg       0.92      0.87      0.89     38717\n",
      "weighted avg       0.91      0.91      0.91     38717\n",
      "\n",
      "Accuracy: 0.9101, Macro F1-score: 0.8920\n"
     ]
    },
    {
     "data": {
      "text/plain": [
       "<Figure size 640x480 with 2 Axes>"
      ],
      "image/png": "[encoded data removed]"
     },
     "metadata": {},
     "output_type": "display_data"
    },
    {
     "name": "stdout",
     "output_type": "stream",
     "text": [
      "\n",
      "Performance on Future Data:\n",
      "              precision    recall  f1-score   support\n",
      "\n",
      "           0       0.80      0.80      0.80      6431\n",
      "           1       0.94      0.94      0.94     21387\n",
      "\n",
      "    accuracy                           0.91     27818\n",
      "   macro avg       0.87      0.87      0.87     27818\n",
      "weighted avg       0.91      0.91      0.91     27818\n",
      "\n",
      "Accuracy: 0.9059, Macro F1-score: 0.8678\n"
     ]
    },
    {
     "data": {
      "text/plain": [
       "<Figure size 640x480 with 2 Axes>"
      ],
      "image/png": "[encoded data removed]"
     },
     "metadata": {},
     "output_type": "display_data"
    },
    {
     "name": "stdout",
     "output_type": "stream",
     "text": [
      "\n",
      "Top 10 Features - LightGBM:\n",
      "\n",
      "      Feature  Importance\n",
      "9   OB_cday_3         406\n",
      "13   P_pday_3         351\n",
      "2         TC3         328\n",
      "7   OB_cday_1         300\n",
      "12   P_pday_2         296\n",
      "8   OB_cday_2         287\n",
      "1         TC2         270\n",
      "11   P_pday_1         262\n",
      "0         TC1         249\n",
      "10        L_R         228\n"
     ]
    },
    {
     "data": {
      "text/plain": [
       "<Figure size 800x500 with 1 Axes>"
      ],
      "image/png": "[encoded data removed]"
     },
     "metadata": {},
     "output_type": "display_data"
    }
   ],
   "execution_count": 46
  },
  {
   "metadata": {
    "ExecuteTime": {
     "end_time": "2025-06-29T13:50:40.332297Z",
     "start_time": "2025-06-29T13:50:40.325328Z"
    }
   },
   "cell_type": "code",
   "source": "current.columns",
   "id": "938d0de42a403bf9",
   "outputs": [
    {
     "data": {
      "text/plain": [
       "Index(['SK_ID_CURR', 'TC1', 'TC2', 'TC3', 'EO_1', 'EO_2', 'EO_3', 'INT',\n",
       "       'OB_cday_1', 'OB_cday_2', 'OB_cday_3', 'L_R', 'AVG_BALANCE',\n",
       "       'BALANCE_CLASS', 'P_pday_1', 'P_pday_2', 'P_pday_3',\n",
       "       'BALANCE_CLASS_PREDICTED_LightGBM'],\n",
       "      dtype='object')"
      ]
     },
     "execution_count": 47,
     "metadata": {},
     "output_type": "execute_result"
    }
   ],
   "execution_count": 47
  },
  {
   "cell_type": "code",
   "id": "56556560c0ebcfc2",
   "metadata": {
    "ExecuteTime": {
     "end_time": "2025-06-29T13:50:40.740662Z",
     "start_time": "2025-06-29T13:50:40.444047Z"
    }
   },
   "source": [
    "# === Step 6: Final Feature Correlation ===\n",
    "final_df = current[['SK_ID_CURR', col_name]].copy()\n",
    "final_df = final_df.rename(columns={col_name: 'BALANCE_CLASS'})\n",
    "\n",
    "# Merge payment and utilization features\n",
    "final_df = final_df.merge(pr_456, on=\"SK_ID_CURR\", how=\"left\") \\\n",
    "                   .merge(ur_456, on=\"SK_ID_CURR\", how=\"left\") \\\n",
    "                   .merge(pr_789, on=\"SK_ID_CURR\", how=\"left\") \\\n",
    "                   .merge(ur_789, on=\"SK_ID_CURR\", how=\"left\")\n",
    "\n",
    "# Merge credit limit info\n",
    "final_df = final_df.merge(lr_4[['SK_ID_CURR', 'L_R', 'L_P']], on=\"SK_ID_CURR\", how=\"left\")\n",
    "\n",
    "# Rename and merge L_P_789 from lr_7\n",
    "lr_7_renamed = lr_7[['SK_ID_CURR', 'L_P']].rename(columns={'L_P': 'L_P_789'})\n",
    "final_df = final_df.merge(lr_7_renamed, on=\"SK_ID_CURR\", how=\"left\")\n",
    "\n",
    "# Merge interest rate\n",
    "final_df = final_df.merge(interest_df, on=\"SK_ID_CURR\", how=\"left\")\n",
    "\n",
    "final_df = final_df.merge(avg_balance_123[['SK_ID_CURR', 'AVG_BALANCE']], on=\"SK_ID_CURR\", how=\"left\") \\\n",
    "                   .rename(columns={'AVG_BALANCE': 'AVG_BALANCE_123'})\n",
    "\n",
    "# Merge and rename average balances\n",
    "final_df = final_df.merge(avg_balance_456[['SK_ID_CURR', 'AVG_BALANCE']], on=\"SK_ID_CURR\", how=\"left\") \\\n",
    "                   .rename(columns={'AVG_BALANCE': 'AVG_BALANCE_456'})\n",
    "\n",
    "final_df = final_df.merge(avg_balance_789[['SK_ID_CURR', 'AVG_BALANCE']], on=\"SK_ID_CURR\", how=\"left\") \\\n",
    "                   .rename(columns={'AVG_BALANCE': 'AVG_BALANCE_789'})\n",
    "\n",
    "# Fill missing values\n",
    "final_df = final_df.fillna(final_df.median(numeric_only=True))\n"
   ],
   "outputs": [],
   "execution_count": 48
  },
  {
   "metadata": {
    "ExecuteTime": {
     "end_time": "2025-06-29T13:50:40.858894Z",
     "start_time": "2025-06-29T13:50:40.838205Z"
    }
   },
   "cell_type": "code",
   "source": "final_df",
   "id": "75f4310282dabf02",
   "outputs": [
    {
     "data": {
      "text/plain": [
       "       SK_ID_CURR  BALANCE_CLASS    PR_456    UR_456    PR_789    UR_789  \\\n",
       "0          100049              1  0.002181  0.883164  0.054939  0.343875   \n",
       "1          100067              0  0.084909  0.986580  0.100559  0.978674   \n",
       "2          100075              1  0.406054  0.877879  0.656126  0.522516   \n",
       "3          100101              1  0.334952  0.484273  0.799689  0.401833   \n",
       "4          100107              1  0.137627  0.807661  0.180686  0.560027   \n",
       "...           ...            ...       ...       ...       ...       ...   \n",
       "40401      456233              1  0.087435  0.202985  0.054939  0.209621   \n",
       "40402      456237              0  0.054573  0.135307  0.593809  0.364901   \n",
       "40403      456242              1  0.164002  0.714039  0.054939  0.643397   \n",
       "40404      456246              0  0.054573  0.110949  0.054939  0.148387   \n",
       "40405      456250              1  0.001101  0.939954  0.007755  0.985540   \n",
       "\n",
       "          L_R       L_P   L_P_789     INT  AVG_BALANCE_123  AVG_BALANCE_456  \\\n",
       "0      135000  135000.0   90000.0  0.1887      133033.2075        89156.730   \n",
       "1       45000   45000.0   45000.0  0.1887       45606.1800        44396.085   \n",
       "2      225000  225000.0  225000.0  0.1887      181714.8825       197522.835   \n",
       "3      382500  382500.0  382500.0  0.1887      404096.1750       185234.430   \n",
       "4      135000  135000.0  135000.0  0.1887      129676.2450       109034.175   \n",
       "...       ...       ...       ...     ...              ...              ...   \n",
       "40401  180000  180000.0   45000.0  0.1887       85344.0450        36537.360   \n",
       "40402  225000  225000.0  225000.0  0.1887           0.0000        30444.150   \n",
       "40403  225000  225000.0  225000.0  0.1887      214296.0600       160658.700   \n",
       "40404  135000  135000.0  135000.0  0.1887          31.3425        14978.085   \n",
       "40405  180000  270000.0  180000.0  0.1887      158175.0750       169191.675   \n",
       "\n",
       "       AVG_BALANCE_789  \n",
       "0            30948.750  \n",
       "1            44040.345  \n",
       "2           117566.055  \n",
       "3           152344.230  \n",
       "4            31594.095  \n",
       "...                ...  \n",
       "40401         9432.945  \n",
       "40402        82102.725  \n",
       "40403        30497.175  \n",
       "40404        20032.305  \n",
       "40405       177397.215  \n",
       "\n",
       "[40406 rows x 13 columns]"
      ],
      "text/html": [
       "<div>\n",
       "<style scoped>\n",
       "    .dataframe tbody tr th:only-of-type {\n",
       "        vertical-align: middle;\n",
       "    }\n",
       "\n",
       "    .dataframe tbody tr th {\n",
       "        vertical-align: top;\n",
       "    }\n",
       "\n",
       "    .dataframe thead th {\n",
       "        text-align: right;\n",
       "    }\n",
       "</style>\n",
       "<table border=\"1\" class=\"dataframe\">\n",
       "  <thead>\n",
       "    <tr style=\"text-align: right;\">\n",
       "      <th></th>\n",
       "      <th>SK_ID_CURR</th>\n",
       "      <th>BALANCE_CLASS</th>\n",
       "      <th>PR_456</th>\n",
       "      <th>UR_456</th>\n",
       "      <th>PR_789</th>\n",
       "      <th>UR_789</th>\n",
       "      <th>L_R</th>\n",
       "      <th>L_P</th>\n",
       "      <th>L_P_789</th>\n",
       "      <th>INT</th>\n",
       "      <th>AVG_BALANCE_123</th>\n",
       "      <th>AVG_BALANCE_456</th>\n",
       "      <th>AVG_BALANCE_789</th>\n",
       "    </tr>\n",
       "  </thead>\n",
       "  <tbody>\n",
       "    <tr>\n",
       "      <th>0</th>\n",
       "      <td>100049</td>\n",
       "      <td>1</td>\n",
       "      <td>0.002181</td>\n",
       "      <td>0.883164</td>\n",
       "      <td>0.054939</td>\n",
       "      <td>0.343875</td>\n",
       "      <td>135000</td>\n",
       "      <td>135000.0</td>\n",
       "      <td>90000.0</td>\n",
       "      <td>0.1887</td>\n",
       "      <td>133033.2075</td>\n",
       "      <td>89156.730</td>\n",
       "      <td>30948.750</td>\n",
       "    </tr>\n",
       "    <tr>\n",
       "      <th>1</th>\n",
       "      <td>100067</td>\n",
       "      <td>0</td>\n",
       "      <td>0.084909</td>\n",
       "      <td>0.986580</td>\n",
       "      <td>0.100559</td>\n",
       "      <td>0.978674</td>\n",
       "      <td>45000</td>\n",
       "      <td>45000.0</td>\n",
       "      <td>45000.0</td>\n",
       "      <td>0.1887</td>\n",
       "      <td>45606.1800</td>\n",
       "      <td>44396.085</td>\n",
       "      <td>44040.345</td>\n",
       "    </tr>\n",
       "    <tr>\n",
       "      <th>2</th>\n",
       "      <td>100075</td>\n",
       "      <td>1</td>\n",
       "      <td>0.406054</td>\n",
       "      <td>0.877879</td>\n",
       "      <td>0.656126</td>\n",
       "      <td>0.522516</td>\n",
       "      <td>225000</td>\n",
       "      <td>225000.0</td>\n",
       "      <td>225000.0</td>\n",
       "      <td>0.1887</td>\n",
       "      <td>181714.8825</td>\n",
       "      <td>197522.835</td>\n",
       "      <td>117566.055</td>\n",
       "    </tr>\n",
       "    <tr>\n",
       "      <th>3</th>\n",
       "      <td>100101</td>\n",
       "      <td>1</td>\n",
       "      <td>0.334952</td>\n",
       "      <td>0.484273</td>\n",
       "      <td>0.799689</td>\n",
       "      <td>0.401833</td>\n",
       "      <td>382500</td>\n",
       "      <td>382500.0</td>\n",
       "      <td>382500.0</td>\n",
       "      <td>0.1887</td>\n",
       "      <td>404096.1750</td>\n",
       "      <td>185234.430</td>\n",
       "      <td>152344.230</td>\n",
       "    </tr>\n",
       "    <tr>\n",
       "      <th>4</th>\n",
       "      <td>100107</td>\n",
       "      <td>1</td>\n",
       "      <td>0.137627</td>\n",
       "      <td>0.807661</td>\n",
       "      <td>0.180686</td>\n",
       "      <td>0.560027</td>\n",
       "      <td>135000</td>\n",
       "      <td>135000.0</td>\n",
       "      <td>135000.0</td>\n",
       "      <td>0.1887</td>\n",
       "      <td>129676.2450</td>\n",
       "      <td>109034.175</td>\n",
       "      <td>31594.095</td>\n",
       "    </tr>\n",
       "    <tr>\n",
       "      <th>...</th>\n",
       "      <td>...</td>\n",
       "      <td>...</td>\n",
       "      <td>...</td>\n",
       "      <td>...</td>\n",
       "      <td>...</td>\n",
       "      <td>...</td>\n",
       "      <td>...</td>\n",
       "      <td>...</td>\n",
       "      <td>...</td>\n",
       "      <td>...</td>\n",
       "      <td>...</td>\n",
       "      <td>...</td>\n",
       "      <td>...</td>\n",
       "    </tr>\n",
       "    <tr>\n",
       "      <th>40401</th>\n",
       "      <td>456233</td>\n",
       "      <td>1</td>\n",
       "      <td>0.087435</td>\n",
       "      <td>0.202985</td>\n",
       "      <td>0.054939</td>\n",
       "      <td>0.209621</td>\n",
       "      <td>180000</td>\n",
       "      <td>180000.0</td>\n",
       "      <td>45000.0</td>\n",
       "      <td>0.1887</td>\n",
       "      <td>85344.0450</td>\n",
       "      <td>36537.360</td>\n",
       "      <td>9432.945</td>\n",
       "    </tr>\n",
       "    <tr>\n",
       "      <th>40402</th>\n",
       "      <td>456237</td>\n",
       "      <td>0</td>\n",
       "      <td>0.054573</td>\n",
       "      <td>0.135307</td>\n",
       "      <td>0.593809</td>\n",
       "      <td>0.364901</td>\n",
       "      <td>225000</td>\n",
       "      <td>225000.0</td>\n",
       "      <td>225000.0</td>\n",
       "      <td>0.1887</td>\n",
       "      <td>0.0000</td>\n",
       "      <td>30444.150</td>\n",
       "      <td>82102.725</td>\n",
       "    </tr>\n",
       "    <tr>\n",
       "      <th>40403</th>\n",
       "      <td>456242</td>\n",
       "      <td>1</td>\n",
       "      <td>0.164002</td>\n",
       "      <td>0.714039</td>\n",
       "      <td>0.054939</td>\n",
       "      <td>0.643397</td>\n",
       "      <td>225000</td>\n",
       "      <td>225000.0</td>\n",
       "      <td>225000.0</td>\n",
       "      <td>0.1887</td>\n",
       "      <td>214296.0600</td>\n",
       "      <td>160658.700</td>\n",
       "      <td>30497.175</td>\n",
       "    </tr>\n",
       "    <tr>\n",
       "      <th>40404</th>\n",
       "      <td>456246</td>\n",
       "      <td>0</td>\n",
       "      <td>0.054573</td>\n",
       "      <td>0.110949</td>\n",
       "      <td>0.054939</td>\n",
       "      <td>0.148387</td>\n",
       "      <td>135000</td>\n",
       "      <td>135000.0</td>\n",
       "      <td>135000.0</td>\n",
       "      <td>0.1887</td>\n",
       "      <td>31.3425</td>\n",
       "      <td>14978.085</td>\n",
       "      <td>20032.305</td>\n",
       "    </tr>\n",
       "    <tr>\n",
       "      <th>40405</th>\n",
       "      <td>456250</td>\n",
       "      <td>1</td>\n",
       "      <td>0.001101</td>\n",
       "      <td>0.939954</td>\n",
       "      <td>0.007755</td>\n",
       "      <td>0.985540</td>\n",
       "      <td>180000</td>\n",
       "      <td>270000.0</td>\n",
       "      <td>180000.0</td>\n",
       "      <td>0.1887</td>\n",
       "      <td>158175.0750</td>\n",
       "      <td>169191.675</td>\n",
       "      <td>177397.215</td>\n",
       "    </tr>\n",
       "  </tbody>\n",
       "</table>\n",
       "<p>40406 rows × 13 columns</p>\n",
       "</div>"
      ]
     },
     "execution_count": 49,
     "metadata": {},
     "output_type": "execute_result"
    }
   ],
   "execution_count": 49
  },
  {
   "cell_type": "code",
   "id": "4ab70aa3dd21583",
   "metadata": {
    "ExecuteTime": {
     "end_time": "2025-06-29T13:50:41.016950Z",
     "start_time": "2025-06-29T13:50:41.013222Z"
    }
   },
   "source": [
    "# delta_prov = (final_df['L_P'] - final_df['L_R']) / final_df['L_R']\n",
    "# provision_bins = np.arange(-0.5, 1.51, 0.01)\n",
    "# final_df['D_PROVISION_bin'] = pd.cut(delta_prov, bins=provision_bins, labels=False, include_lowest=True).fillna(0).astype(int)"
   ],
   "outputs": [],
   "execution_count": 50
  },
  {
   "metadata": {
    "ExecuteTime": {
     "end_time": "2025-06-29T13:50:41.166304Z",
     "start_time": "2025-06-29T13:50:41.162756Z"
    }
   },
   "cell_type": "code",
   "source": "# final_df.columns",
   "id": "7bb36dc67ba08a86",
   "outputs": [],
   "execution_count": 51
  },
  {
   "cell_type": "code",
   "id": "e839ff30ce2d31e4",
   "metadata": {
    "ExecuteTime": {
     "end_time": "2025-06-29T13:50:41.807753Z",
     "start_time": "2025-06-29T13:50:41.360918Z"
    }
   },
   "source": [
    "PROCESSED_PATH = os.path.join(\"..\", \"data\", \"processed\")\n",
    "os.makedirs(PROCESSED_PATH, exist_ok=True)  # Create folder if missing\n",
    "\n",
    "final_df.to_csv(os.path.join(PROCESSED_PATH, \"cleaned_df.csv\"), index=False)"
   ],
   "outputs": [],
   "execution_count": 52
  },
  {
   "cell_type": "code",
   "id": "99d83eb0c23757bc",
   "metadata": {
    "ExecuteTime": {
     "end_time": "2025-06-29T13:50:41.956310Z",
     "start_time": "2025-06-29T13:50:41.934977Z"
    }
   },
   "source": [
    "final_df"
   ],
   "outputs": [
    {
     "data": {
      "text/plain": [
       "       SK_ID_CURR  BALANCE_CLASS    PR_456    UR_456    PR_789    UR_789  \\\n",
       "0          100049              1  0.002181  0.883164  0.054939  0.343875   \n",
       "1          100067              0  0.084909  0.986580  0.100559  0.978674   \n",
       "2          100075              1  0.406054  0.877879  0.656126  0.522516   \n",
       "3          100101              1  0.334952  0.484273  0.799689  0.401833   \n",
       "4          100107              1  0.137627  0.807661  0.180686  0.560027   \n",
       "...           ...            ...       ...       ...       ...       ...   \n",
       "40401      456233              1  0.087435  0.202985  0.054939  0.209621   \n",
       "40402      456237              0  0.054573  0.135307  0.593809  0.364901   \n",
       "40403      456242              1  0.164002  0.714039  0.054939  0.643397   \n",
       "40404      456246              0  0.054573  0.110949  0.054939  0.148387   \n",
       "40405      456250              1  0.001101  0.939954  0.007755  0.985540   \n",
       "\n",
       "          L_R       L_P   L_P_789     INT  AVG_BALANCE_123  AVG_BALANCE_456  \\\n",
       "0      135000  135000.0   90000.0  0.1887      133033.2075        89156.730   \n",
       "1       45000   45000.0   45000.0  0.1887       45606.1800        44396.085   \n",
       "2      225000  225000.0  225000.0  0.1887      181714.8825       197522.835   \n",
       "3      382500  382500.0  382500.0  0.1887      404096.1750       185234.430   \n",
       "4      135000  135000.0  135000.0  0.1887      129676.2450       109034.175   \n",
       "...       ...       ...       ...     ...              ...              ...   \n",
       "40401  180000  180000.0   45000.0  0.1887       85344.0450        36537.360   \n",
       "40402  225000  225000.0  225000.0  0.1887           0.0000        30444.150   \n",
       "40403  225000  225000.0  225000.0  0.1887      214296.0600       160658.700   \n",
       "40404  135000  135000.0  135000.0  0.1887          31.3425        14978.085   \n",
       "40405  180000  270000.0  180000.0  0.1887      158175.0750       169191.675   \n",
       "\n",
       "       AVG_BALANCE_789  \n",
       "0            30948.750  \n",
       "1            44040.345  \n",
       "2           117566.055  \n",
       "3           152344.230  \n",
       "4            31594.095  \n",
       "...                ...  \n",
       "40401         9432.945  \n",
       "40402        82102.725  \n",
       "40403        30497.175  \n",
       "40404        20032.305  \n",
       "40405       177397.215  \n",
       "\n",
       "[40406 rows x 13 columns]"
      ],
      "text/html": [
       "<div>\n",
       "<style scoped>\n",
       "    .dataframe tbody tr th:only-of-type {\n",
       "        vertical-align: middle;\n",
       "    }\n",
       "\n",
       "    .dataframe tbody tr th {\n",
       "        vertical-align: top;\n",
       "    }\n",
       "\n",
       "    .dataframe thead th {\n",
       "        text-align: right;\n",
       "    }\n",
       "</style>\n",
       "<table border=\"1\" class=\"dataframe\">\n",
       "  <thead>\n",
       "    <tr style=\"text-align: right;\">\n",
       "      <th></th>\n",
       "      <th>SK_ID_CURR</th>\n",
       "      <th>BALANCE_CLASS</th>\n",
       "      <th>PR_456</th>\n",
       "      <th>UR_456</th>\n",
       "      <th>PR_789</th>\n",
       "      <th>UR_789</th>\n",
       "      <th>L_R</th>\n",
       "      <th>L_P</th>\n",
       "      <th>L_P_789</th>\n",
       "      <th>INT</th>\n",
       "      <th>AVG_BALANCE_123</th>\n",
       "      <th>AVG_BALANCE_456</th>\n",
       "      <th>AVG_BALANCE_789</th>\n",
       "    </tr>\n",
       "  </thead>\n",
       "  <tbody>\n",
       "    <tr>\n",
       "      <th>0</th>\n",
       "      <td>100049</td>\n",
       "      <td>1</td>\n",
       "      <td>0.002181</td>\n",
       "      <td>0.883164</td>\n",
       "      <td>0.054939</td>\n",
       "      <td>0.343875</td>\n",
       "      <td>135000</td>\n",
       "      <td>135000.0</td>\n",
       "      <td>90000.0</td>\n",
       "      <td>0.1887</td>\n",
       "      <td>133033.2075</td>\n",
       "      <td>89156.730</td>\n",
       "      <td>30948.750</td>\n",
       "    </tr>\n",
       "    <tr>\n",
       "      <th>1</th>\n",
       "      <td>100067</td>\n",
       "      <td>0</td>\n",
       "      <td>0.084909</td>\n",
       "      <td>0.986580</td>\n",
       "      <td>0.100559</td>\n",
       "      <td>0.978674</td>\n",
       "      <td>45000</td>\n",
       "      <td>45000.0</td>\n",
       "      <td>45000.0</td>\n",
       "      <td>0.1887</td>\n",
       "      <td>45606.1800</td>\n",
       "      <td>44396.085</td>\n",
       "      <td>44040.345</td>\n",
       "    </tr>\n",
       "    <tr>\n",
       "      <th>2</th>\n",
       "      <td>100075</td>\n",
       "      <td>1</td>\n",
       "      <td>0.406054</td>\n",
       "      <td>0.877879</td>\n",
       "      <td>0.656126</td>\n",
       "      <td>0.522516</td>\n",
       "      <td>225000</td>\n",
       "      <td>225000.0</td>\n",
       "      <td>225000.0</td>\n",
       "      <td>0.1887</td>\n",
       "      <td>181714.8825</td>\n",
       "      <td>197522.835</td>\n",
       "      <td>117566.055</td>\n",
       "    </tr>\n",
       "    <tr>\n",
       "      <th>3</th>\n",
       "      <td>100101</td>\n",
       "      <td>1</td>\n",
       "      <td>0.334952</td>\n",
       "      <td>0.484273</td>\n",
       "      <td>0.799689</td>\n",
       "      <td>0.401833</td>\n",
       "      <td>382500</td>\n",
       "      <td>382500.0</td>\n",
       "      <td>382500.0</td>\n",
       "      <td>0.1887</td>\n",
       "      <td>404096.1750</td>\n",
       "      <td>185234.430</td>\n",
       "      <td>152344.230</td>\n",
       "    </tr>\n",
       "    <tr>\n",
       "      <th>4</th>\n",
       "      <td>100107</td>\n",
       "      <td>1</td>\n",
       "      <td>0.137627</td>\n",
       "      <td>0.807661</td>\n",
       "      <td>0.180686</td>\n",
       "      <td>0.560027</td>\n",
       "      <td>135000</td>\n",
       "      <td>135000.0</td>\n",
       "      <td>135000.0</td>\n",
       "      <td>0.1887</td>\n",
       "      <td>129676.2450</td>\n",
       "      <td>109034.175</td>\n",
       "      <td>31594.095</td>\n",
       "    </tr>\n",
       "    <tr>\n",
       "      <th>...</th>\n",
       "      <td>...</td>\n",
       "      <td>...</td>\n",
       "      <td>...</td>\n",
       "      <td>...</td>\n",
       "      <td>...</td>\n",
       "      <td>...</td>\n",
       "      <td>...</td>\n",
       "      <td>...</td>\n",
       "      <td>...</td>\n",
       "      <td>...</td>\n",
       "      <td>...</td>\n",
       "      <td>...</td>\n",
       "      <td>...</td>\n",
       "    </tr>\n",
       "    <tr>\n",
       "      <th>40401</th>\n",
       "      <td>456233</td>\n",
       "      <td>1</td>\n",
       "      <td>0.087435</td>\n",
       "      <td>0.202985</td>\n",
       "      <td>0.054939</td>\n",
       "      <td>0.209621</td>\n",
       "      <td>180000</td>\n",
       "      <td>180000.0</td>\n",
       "      <td>45000.0</td>\n",
       "      <td>0.1887</td>\n",
       "      <td>85344.0450</td>\n",
       "      <td>36537.360</td>\n",
       "      <td>9432.945</td>\n",
       "    </tr>\n",
       "    <tr>\n",
       "      <th>40402</th>\n",
       "      <td>456237</td>\n",
       "      <td>0</td>\n",
       "      <td>0.054573</td>\n",
       "      <td>0.135307</td>\n",
       "      <td>0.593809</td>\n",
       "      <td>0.364901</td>\n",
       "      <td>225000</td>\n",
       "      <td>225000.0</td>\n",
       "      <td>225000.0</td>\n",
       "      <td>0.1887</td>\n",
       "      <td>0.0000</td>\n",
       "      <td>30444.150</td>\n",
       "      <td>82102.725</td>\n",
       "    </tr>\n",
       "    <tr>\n",
       "      <th>40403</th>\n",
       "      <td>456242</td>\n",
       "      <td>1</td>\n",
       "      <td>0.164002</td>\n",
       "      <td>0.714039</td>\n",
       "      <td>0.054939</td>\n",
       "      <td>0.643397</td>\n",
       "      <td>225000</td>\n",
       "      <td>225000.0</td>\n",
       "      <td>225000.0</td>\n",
       "      <td>0.1887</td>\n",
       "      <td>214296.0600</td>\n",
       "      <td>160658.700</td>\n",
       "      <td>30497.175</td>\n",
       "    </tr>\n",
       "    <tr>\n",
       "      <th>40404</th>\n",
       "      <td>456246</td>\n",
       "      <td>0</td>\n",
       "      <td>0.054573</td>\n",
       "      <td>0.110949</td>\n",
       "      <td>0.054939</td>\n",
       "      <td>0.148387</td>\n",
       "      <td>135000</td>\n",
       "      <td>135000.0</td>\n",
       "      <td>135000.0</td>\n",
       "      <td>0.1887</td>\n",
       "      <td>31.3425</td>\n",
       "      <td>14978.085</td>\n",
       "      <td>20032.305</td>\n",
       "    </tr>\n",
       "    <tr>\n",
       "      <th>40405</th>\n",
       "      <td>456250</td>\n",
       "      <td>1</td>\n",
       "      <td>0.001101</td>\n",
       "      <td>0.939954</td>\n",
       "      <td>0.007755</td>\n",
       "      <td>0.985540</td>\n",
       "      <td>180000</td>\n",
       "      <td>270000.0</td>\n",
       "      <td>180000.0</td>\n",
       "      <td>0.1887</td>\n",
       "      <td>158175.0750</td>\n",
       "      <td>169191.675</td>\n",
       "      <td>177397.215</td>\n",
       "    </tr>\n",
       "  </tbody>\n",
       "</table>\n",
       "<p>40406 rows × 13 columns</p>\n",
       "</div>"
      ]
     },
     "execution_count": 53,
     "metadata": {},
     "output_type": "execute_result"
    }
   ],
   "execution_count": 53
  },
  {
   "metadata": {
    "ExecuteTime": {
     "end_time": "2025-06-29T03:18:20.935223Z",
     "start_time": "2025-06-29T03:18:20.930437Z"
    }
   },
   "cell_type": "code",
   "source": "",
   "id": "255a93b5b0af7518",
   "outputs": [],
   "execution_count": null
  }
 ],
 "metadata": {
  "colab": {
   "name": "",
   "version": ""
  },
  "kernelspec": {
   "display_name": "base",
   "language": "python",
   "name": "python3"
  },
  "language_info": {
   "codemirror_mode": {
    "name": "ipython",
    "version": 3
   },
   "file_extension": ".py",
   "mimetype": "text/x-python",
   "name": "python",
   "nbconvert_exporter": "python",
   "pygments_lexer": "ipython3",
   "version": "3.12.9"
  }
 },
 "nbformat": 4,
 "nbformat_minor": 5
}
